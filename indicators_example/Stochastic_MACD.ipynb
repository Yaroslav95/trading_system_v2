{
 "cells": [
  {
   "cell_type": "code",
   "execution_count": 1,
   "metadata": {},
   "outputs": [],
   "source": [
    "import pandas as pd\n",
    "import matplotlib.pyplot as plt\n",
    "import seaborn as sns\n",
    "import numpy as np\n",
    "from datetime import datetime\n"
   ]
  },
  {
   "cell_type": "markdown",
   "metadata": {},
   "source": [
    "## Котировки"
   ]
  },
  {
   "cell_type": "code",
   "execution_count": 2,
   "metadata": {},
   "outputs": [],
   "source": [
    "df = pd.read_csv('Data/TQBR.SBER_D1.txt', sep='\\t')"
   ]
  },
  {
   "cell_type": "code",
   "execution_count": 3,
   "metadata": {},
   "outputs": [],
   "source": [
    "def func_1(x):\n",
    "    \n",
    "    return datetime.strptime(x[:10], '%d.%m.%Y')\n",
    "\n",
    "df.datetime = df.datetime.apply(lambda x: func_1(x))\n",
    "df.datetime = df.datetime.astype('datetime64')"
   ]
  },
  {
   "cell_type": "code",
   "execution_count": 4,
   "metadata": {},
   "outputs": [
    {
     "name": "stderr",
     "output_type": "stream",
     "text": [
      "C:\\Users\\yaroslav\\Anaconda3\\lib\\site-packages\\scipy\\stats\\stats.py:1713: FutureWarning: Using a non-tuple sequence for multidimensional indexing is deprecated; use `arr[tuple(seq)]` instead of `arr[seq]`. In the future this will be interpreted as an array index, `arr[np.array(seq)]`, which will result either in an error or a different result.\n",
      "  return np.add.reduce(sorted[indexer] * weights, axis=axis) / sumval\n"
     ]
    },
    {
     "data": {
      "text/plain": [
       "<matplotlib.axes._subplots.AxesSubplot at 0x1d56dd3fd68>"
      ]
     },
     "execution_count": 4,
     "metadata": {},
     "output_type": "execute_result"
    },
    {
     "data": {
      "image/png": "[encoded data removed]",
      "text/plain": [
       "<Figure size 432x288 with 1 Axes>"
      ]
     },
     "metadata": {},
     "output_type": "display_data"
    }
   ],
   "source": [
    "sns.lineplot(data=df.loc[lambda x: x.datetime >= pd.to_datetime('2021-01-01')], x=\"datetime\", y=\"open\")"
   ]
  },
  {
   "cell_type": "code",
   "execution_count": 5,
   "metadata": {},
   "outputs": [
    {
     "data": {
      "text/html": [
       "<div>\n",
       "<style scoped>\n",
       "    .dataframe tbody tr th:only-of-type {\n",
       "        vertical-align: middle;\n",
       "    }\n",
       "\n",
       "    .dataframe tbody tr th {\n",
       "        vertical-align: top;\n",
       "    }\n",
       "\n",
       "    .dataframe thead th {\n",
       "        text-align: right;\n",
       "    }\n",
       "</style>\n",
       "<table border=\"1\" class=\"dataframe\">\n",
       "  <thead>\n",
       "    <tr style=\"text-align: right;\">\n",
       "      <th></th>\n",
       "      <th>open</th>\n",
       "      <th>high</th>\n",
       "      <th>low</th>\n",
       "      <th>close</th>\n",
       "      <th>volume</th>\n",
       "    </tr>\n",
       "    <tr>\n",
       "      <th>datetime</th>\n",
       "      <th></th>\n",
       "      <th></th>\n",
       "      <th></th>\n",
       "      <th></th>\n",
       "      <th></th>\n",
       "    </tr>\n",
       "  </thead>\n",
       "  <tbody>\n",
       "    <tr>\n",
       "      <th>2021-01-04</th>\n",
       "      <td>274.67</td>\n",
       "      <td>276.60</td>\n",
       "      <td>270.61</td>\n",
       "      <td>272.00</td>\n",
       "      <td>4879946</td>\n",
       "    </tr>\n",
       "    <tr>\n",
       "      <th>2021-01-05</th>\n",
       "      <td>272.67</td>\n",
       "      <td>275.70</td>\n",
       "      <td>270.28</td>\n",
       "      <td>275.20</td>\n",
       "      <td>4555410</td>\n",
       "    </tr>\n",
       "    <tr>\n",
       "      <th>2021-01-06</th>\n",
       "      <td>275.90</td>\n",
       "      <td>275.92</td>\n",
       "      <td>271.62</td>\n",
       "      <td>272.93</td>\n",
       "      <td>4090534</td>\n",
       "    </tr>\n",
       "    <tr>\n",
       "      <th>2021-01-08</th>\n",
       "      <td>275.11</td>\n",
       "      <td>283.99</td>\n",
       "      <td>275.11</td>\n",
       "      <td>283.64</td>\n",
       "      <td>8867294</td>\n",
       "    </tr>\n",
       "    <tr>\n",
       "      <th>2021-01-11</th>\n",
       "      <td>282.75</td>\n",
       "      <td>292.95</td>\n",
       "      <td>279.48</td>\n",
       "      <td>289.49</td>\n",
       "      <td>11221040</td>\n",
       "    </tr>\n",
       "  </tbody>\n",
       "</table>\n",
       "</div>"
      ],
      "text/plain": [
       "              open    high     low   close    volume\n",
       "datetime                                            \n",
       "2021-01-04  274.67  276.60  270.61  272.00   4879946\n",
       "2021-01-05  272.67  275.70  270.28  275.20   4555410\n",
       "2021-01-06  275.90  275.92  271.62  272.93   4090534\n",
       "2021-01-08  275.11  283.99  275.11  283.64   8867294\n",
       "2021-01-11  282.75  292.95  279.48  289.49  11221040"
      ]
     },
     "execution_count": 5,
     "metadata": {},
     "output_type": "execute_result"
    }
   ],
   "source": [
    "df = df.loc[lambda x: x.datetime >= pd.to_datetime('2021-01-01')].set_index('datetime')\n",
    "df.head()"
   ]
  },
  {
   "cell_type": "markdown",
   "metadata": {},
   "source": [
    "## Индикатор"
   ]
  },
  {
   "cell_type": "code",
   "execution_count": 6,
   "metadata": {},
   "outputs": [
    {
     "data": {
      "text/html": [
       "<div>\n",
       "<style scoped>\n",
       "    .dataframe tbody tr th:only-of-type {\n",
       "        vertical-align: middle;\n",
       "    }\n",
       "\n",
       "    .dataframe tbody tr th {\n",
       "        vertical-align: top;\n",
       "    }\n",
       "\n",
       "    .dataframe thead th {\n",
       "        text-align: right;\n",
       "    }\n",
       "</style>\n",
       "<table border=\"1\" class=\"dataframe\">\n",
       "  <thead>\n",
       "    <tr style=\"text-align: right;\">\n",
       "      <th></th>\n",
       "      <th>open</th>\n",
       "      <th>high</th>\n",
       "      <th>low</th>\n",
       "      <th>close</th>\n",
       "      <th>volume</th>\n",
       "      <th>%k</th>\n",
       "      <th>%d</th>\n",
       "    </tr>\n",
       "    <tr>\n",
       "      <th>datetime</th>\n",
       "      <th></th>\n",
       "      <th></th>\n",
       "      <th></th>\n",
       "      <th></th>\n",
       "      <th></th>\n",
       "      <th></th>\n",
       "      <th></th>\n",
       "    </tr>\n",
       "  </thead>\n",
       "  <tbody>\n",
       "    <tr>\n",
       "      <th>2022-01-03</th>\n",
       "      <td>295.90</td>\n",
       "      <td>305.50</td>\n",
       "      <td>294.34</td>\n",
       "      <td>305.47</td>\n",
       "      <td>5015626</td>\n",
       "      <td>99.910233</td>\n",
       "      <td>80.371451</td>\n",
       "    </tr>\n",
       "    <tr>\n",
       "      <th>2022-01-04</th>\n",
       "      <td>305.51</td>\n",
       "      <td>310.10</td>\n",
       "      <td>301.63</td>\n",
       "      <td>304.24</td>\n",
       "      <td>5326822</td>\n",
       "      <td>80.887149</td>\n",
       "      <td>85.149569</td>\n",
       "    </tr>\n",
       "    <tr>\n",
       "      <th>2022-01-05</th>\n",
       "      <td>303.56</td>\n",
       "      <td>304.26</td>\n",
       "      <td>287.00</td>\n",
       "      <td>287.01</td>\n",
       "      <td>7001594</td>\n",
       "      <td>5.639559</td>\n",
       "      <td>62.145647</td>\n",
       "    </tr>\n",
       "    <tr>\n",
       "      <th>2022-01-06</th>\n",
       "      <td>286.86</td>\n",
       "      <td>295.10</td>\n",
       "      <td>281.00</td>\n",
       "      <td>293.92</td>\n",
       "      <td>7932941</td>\n",
       "      <td>44.398625</td>\n",
       "      <td>43.641778</td>\n",
       "    </tr>\n",
       "    <tr>\n",
       "      <th>2022-01-10</th>\n",
       "      <td>295.52</td>\n",
       "      <td>298.88</td>\n",
       "      <td>289.60</td>\n",
       "      <td>291.41</td>\n",
       "      <td>4619797</td>\n",
       "      <td>35.773196</td>\n",
       "      <td>28.603793</td>\n",
       "    </tr>\n",
       "  </tbody>\n",
       "</table>\n",
       "</div>"
      ],
      "text/plain": [
       "              open    high     low   close   volume         %k         %d\n",
       "datetime                                                                 \n",
       "2022-01-03  295.90  305.50  294.34  305.47  5015626  99.910233  80.371451\n",
       "2022-01-04  305.51  310.10  301.63  304.24  5326822  80.887149  85.149569\n",
       "2022-01-05  303.56  304.26  287.00  287.01  7001594   5.639559  62.145647\n",
       "2022-01-06  286.86  295.10  281.00  293.92  7932941  44.398625  43.641778\n",
       "2022-01-10  295.52  298.88  289.60  291.41  4619797  35.773196  28.603793"
      ]
     },
     "execution_count": 6,
     "metadata": {},
     "output_type": "execute_result"
    }
   ],
   "source": [
    "# STOCHASTIC OSCILLATOR CALCULATION\n",
    "\n",
    "def get_stoch_osc(high, low, close, k_lookback, d_lookback):\n",
    "    lowest_low = low.rolling(k_lookback).min()\n",
    "    highest_high = high.rolling(k_lookback).max()\n",
    "    k_line = ((close - lowest_low) / (highest_high - lowest_low)) * 100\n",
    "    d_line = k_line.rolling(d_lookback).mean()\n",
    "    return k_line, d_line\n",
    "\n",
    "df['%k'], df['%d'] = get_stoch_osc(df['high'], df['low'], df['close'], 14, 3)\n",
    "df.tail()"
   ]
  },
  {
   "cell_type": "code",
   "execution_count": 7,
   "metadata": {},
   "outputs": [
    {
     "data": {
      "text/html": [
       "<div>\n",
       "<style scoped>\n",
       "    .dataframe tbody tr th:only-of-type {\n",
       "        vertical-align: middle;\n",
       "    }\n",
       "\n",
       "    .dataframe tbody tr th {\n",
       "        vertical-align: top;\n",
       "    }\n",
       "\n",
       "    .dataframe thead th {\n",
       "        text-align: right;\n",
       "    }\n",
       "</style>\n",
       "<table border=\"1\" class=\"dataframe\">\n",
       "  <thead>\n",
       "    <tr style=\"text-align: right;\">\n",
       "      <th></th>\n",
       "      <th>open</th>\n",
       "      <th>high</th>\n",
       "      <th>low</th>\n",
       "      <th>close</th>\n",
       "      <th>volume</th>\n",
       "      <th>%k</th>\n",
       "      <th>%d</th>\n",
       "      <th>macd</th>\n",
       "      <th>macd_signal</th>\n",
       "      <th>macd_hist</th>\n",
       "    </tr>\n",
       "    <tr>\n",
       "      <th>datetime</th>\n",
       "      <th></th>\n",
       "      <th></th>\n",
       "      <th></th>\n",
       "      <th></th>\n",
       "      <th></th>\n",
       "      <th></th>\n",
       "      <th></th>\n",
       "      <th></th>\n",
       "      <th></th>\n",
       "      <th></th>\n",
       "    </tr>\n",
       "  </thead>\n",
       "  <tbody>\n",
       "    <tr>\n",
       "      <th>2022-01-03</th>\n",
       "      <td>295.90</td>\n",
       "      <td>305.50</td>\n",
       "      <td>294.34</td>\n",
       "      <td>305.47</td>\n",
       "      <td>5015626</td>\n",
       "      <td>99.910233</td>\n",
       "      <td>80.371451</td>\n",
       "      <td>-6.793205</td>\n",
       "      <td>-9.610469</td>\n",
       "      <td>2.817264</td>\n",
       "    </tr>\n",
       "    <tr>\n",
       "      <th>2022-01-04</th>\n",
       "      <td>305.51</td>\n",
       "      <td>310.10</td>\n",
       "      <td>301.63</td>\n",
       "      <td>304.24</td>\n",
       "      <td>5326822</td>\n",
       "      <td>80.887149</td>\n",
       "      <td>85.149569</td>\n",
       "      <td>-5.672035</td>\n",
       "      <td>-8.822782</td>\n",
       "      <td>3.150747</td>\n",
       "    </tr>\n",
       "    <tr>\n",
       "      <th>2022-01-05</th>\n",
       "      <td>303.56</td>\n",
       "      <td>304.26</td>\n",
       "      <td>287.00</td>\n",
       "      <td>287.01</td>\n",
       "      <td>7001594</td>\n",
       "      <td>5.639559</td>\n",
       "      <td>62.145647</td>\n",
       "      <td>-6.103461</td>\n",
       "      <td>-8.278918</td>\n",
       "      <td>2.175457</td>\n",
       "    </tr>\n",
       "    <tr>\n",
       "      <th>2022-01-06</th>\n",
       "      <td>286.86</td>\n",
       "      <td>295.10</td>\n",
       "      <td>281.00</td>\n",
       "      <td>293.92</td>\n",
       "      <td>7932941</td>\n",
       "      <td>44.398625</td>\n",
       "      <td>43.641778</td>\n",
       "      <td>-5.820692</td>\n",
       "      <td>-7.787273</td>\n",
       "      <td>1.966581</td>\n",
       "    </tr>\n",
       "    <tr>\n",
       "      <th>2022-01-10</th>\n",
       "      <td>295.52</td>\n",
       "      <td>298.88</td>\n",
       "      <td>289.60</td>\n",
       "      <td>291.41</td>\n",
       "      <td>4619797</td>\n",
       "      <td>35.773196</td>\n",
       "      <td>28.603793</td>\n",
       "      <td>-5.733044</td>\n",
       "      <td>-7.376427</td>\n",
       "      <td>1.643383</td>\n",
       "    </tr>\n",
       "  </tbody>\n",
       "</table>\n",
       "</div>"
      ],
      "text/plain": [
       "              open    high     low   close   volume         %k         %d  \\\n",
       "datetime                                                                    \n",
       "2022-01-03  295.90  305.50  294.34  305.47  5015626  99.910233  80.371451   \n",
       "2022-01-04  305.51  310.10  301.63  304.24  5326822  80.887149  85.149569   \n",
       "2022-01-05  303.56  304.26  287.00  287.01  7001594   5.639559  62.145647   \n",
       "2022-01-06  286.86  295.10  281.00  293.92  7932941  44.398625  43.641778   \n",
       "2022-01-10  295.52  298.88  289.60  291.41  4619797  35.773196  28.603793   \n",
       "\n",
       "                macd  macd_signal  macd_hist  \n",
       "datetime                                      \n",
       "2022-01-03 -6.793205    -9.610469   2.817264  \n",
       "2022-01-04 -5.672035    -8.822782   3.150747  \n",
       "2022-01-05 -6.103461    -8.278918   2.175457  \n",
       "2022-01-06 -5.820692    -7.787273   1.966581  \n",
       "2022-01-10 -5.733044    -7.376427   1.643383  "
      ]
     },
     "execution_count": 7,
     "metadata": {},
     "output_type": "execute_result"
    }
   ],
   "source": [
    "# MACD CALCULATION\n",
    "\n",
    "def get_macd(price, slow, fast, smooth):\n",
    "    exp1 = price.ewm(span = fast, adjust = False).mean()\n",
    "    exp2 = price.ewm(span = slow, adjust = False).mean()\n",
    "    macd = pd.DataFrame(exp1 - exp2).rename(columns = {'close':'macd'})\n",
    "    signal = pd.DataFrame(macd.ewm(span = smooth, adjust = False).mean()).rename(columns = {'macd':'signal'})\n",
    "    hist = pd.DataFrame(macd['macd'] - signal['signal']).rename(columns = {0:'hist'})\n",
    "    return macd, signal, hist\n",
    "\n",
    "df['macd'] = get_macd(df['close'], 26, 12, 9)[0]\n",
    "df['macd_signal'] = get_macd(df['close'], 26, 12, 9)[1]\n",
    "df['macd_hist'] = get_macd(df['close'], 26, 12, 9)[2]\n",
    "df = df.dropna()\n",
    "df.tail()"
   ]
  },
  {
   "cell_type": "markdown",
   "metadata": {},
   "source": [
    "## TRADING STRATEGY"
   ]
  },
  {
   "cell_type": "code",
   "execution_count": 23,
   "metadata": {},
   "outputs": [],
   "source": [
    "# TRADING STRATEGY\n",
    "\n",
    "def implement_stoch_macd_strategy(prices, k, d, macd, macd_signal):    \n",
    "    buy_price = []\n",
    "    sell_price = []\n",
    "    stoch_macd_signal = []\n",
    "    signal = 0\n",
    "\n",
    "    for i in range(len(prices)):\n",
    "        #if k[i] < 30 and d[i] < 30 and macd[i] < -2 and macd_signal[i] < -2:\n",
    "        \n",
    "        if ((k[i] < 30) and (d[i] < 30)) | (macd[i] > macd_signal[i]):\n",
    "            if signal != 1:\n",
    "                buy_price.append(prices[i])\n",
    "                sell_price.append(np.nan)\n",
    "                signal = 1\n",
    "                stoch_macd_signal.append(signal)\n",
    "            else:\n",
    "                buy_price.append(np.nan)\n",
    "                sell_price.append(np.nan)\n",
    "                stoch_macd_signal.append(0)\n",
    "                \n",
    "        elif ((k[i] > 30) and (d[i] > 30)) | (macd[i] < macd_signal[i]):\n",
    "            if signal != -1 and signal != 0:\n",
    "                buy_price.append(np.nan)\n",
    "                sell_price.append(prices[i])\n",
    "                signal = -1\n",
    "                stoch_macd_signal.append(signal)\n",
    "            else:\n",
    "                buy_price.append(np.nan)\n",
    "                sell_price.append(np.nan)\n",
    "                stoch_macd_signal.append(0)\n",
    "        \n",
    "        else:\n",
    "            buy_price.append(np.nan)\n",
    "            sell_price.append(np.nan)\n",
    "            stoch_macd_signal.append(0)\n",
    "            \n",
    "    return buy_price, sell_price, stoch_macd_signal\n",
    "            \n",
    "buy_price, sell_price, stoch_macd_signal = implement_stoch_macd_strategy(df['close'], df['%k'], df['%d'], df['macd'], df['macd_signal'])"
   ]
  },
  {
   "cell_type": "code",
   "execution_count": null,
   "metadata": {},
   "outputs": [],
   "source": []
  },
  {
   "cell_type": "markdown",
   "metadata": {},
   "source": [
    "## POSITION"
   ]
  },
  {
   "cell_type": "code",
   "execution_count": 24,
   "metadata": {},
   "outputs": [],
   "source": [
    "# POSITION\n",
    "\n",
    "position = []\n",
    "for i in range(len(stoch_macd_signal)):\n",
    "    if stoch_macd_signal[i] > 1:\n",
    "        position.append(0)\n",
    "    else:\n",
    "        position.append(1)\n",
    "        \n",
    "for i in range(len(df['close'])):\n",
    "    if stoch_macd_signal[i] == 1:\n",
    "        position[i] = 1\n",
    "    elif stoch_macd_signal[i] == -1:\n",
    "        position[i] = 0\n",
    "    else:\n",
    "        position[i] = position[i-1]\n",
    "        \n",
    "close_price = df['close']\n",
    "k_line = df['%k']\n",
    "d_line = df['%d']\n",
    "macd_line = df['macd']\n",
    "signal_line = df['macd_signal']\n",
    "stoch_macd_signal = pd.DataFrame(stoch_macd_signal).rename(columns = {0:'stoch_macd_signal'}).set_index(df.index)\n",
    "position = pd.DataFrame(position).rename(columns = {0:'stoch_macd_position'}).set_index(df.index)\n",
    "\n",
    "frames = [close_price, k_line, d_line, macd_line, signal_line, stoch_macd_signal, position]\n",
    "strategy = pd.concat(frames, join = 'inner', axis = 1)"
   ]
  },
  {
   "cell_type": "code",
   "execution_count": 22,
   "metadata": {
    "scrolled": true
   },
   "outputs": [
    {
     "data": {
      "text/html": [
       "<div>\n",
       "<style scoped>\n",
       "    .dataframe tbody tr th:only-of-type {\n",
       "        vertical-align: middle;\n",
       "    }\n",
       "\n",
       "    .dataframe tbody tr th {\n",
       "        vertical-align: top;\n",
       "    }\n",
       "\n",
       "    .dataframe thead th {\n",
       "        text-align: right;\n",
       "    }\n",
       "</style>\n",
       "<table border=\"1\" class=\"dataframe\">\n",
       "  <thead>\n",
       "    <tr style=\"text-align: right;\">\n",
       "      <th></th>\n",
       "      <th>close</th>\n",
       "      <th>%k</th>\n",
       "      <th>%d</th>\n",
       "      <th>macd</th>\n",
       "      <th>macd_signal</th>\n",
       "      <th>stoch_macd_signal</th>\n",
       "      <th>stoch_macd_position</th>\n",
       "    </tr>\n",
       "    <tr>\n",
       "      <th>datetime</th>\n",
       "      <th></th>\n",
       "      <th></th>\n",
       "      <th></th>\n",
       "      <th></th>\n",
       "      <th></th>\n",
       "      <th></th>\n",
       "      <th></th>\n",
       "    </tr>\n",
       "  </thead>\n",
       "  <tbody>\n",
       "  </tbody>\n",
       "</table>\n",
       "</div>"
      ],
      "text/plain": [
       "Empty DataFrame\n",
       "Columns: [close, %k, %d, macd, macd_signal, stoch_macd_signal, stoch_macd_position]\n",
       "Index: []"
      ]
     },
     "execution_count": 22,
     "metadata": {},
     "output_type": "execute_result"
    }
   ],
   "source": [
    "strategy.loc[lambda x: abs(x.stoch_macd_signal)==1]"
   ]
  },
  {
   "cell_type": "markdown",
   "metadata": {},
   "source": [
    "## BACKTEST"
   ]
  },
  {
   "cell_type": "code",
   "execution_count": 14,
   "metadata": {},
   "outputs": [
    {
     "name": "stdout",
     "output_type": "stream",
     "text": [
      "Profit gained from the STOCH + MACD strategy by investing 10k in AAPL : 1589.81\n",
      "Profit percentage of the STOCH + MACD strategy : 15.898099999999998%\n"
     ]
    }
   ],
   "source": [
    "# BACKTESTING\n",
    "\n",
    "aapl_ret = pd.DataFrame(np.diff(df['close'])).rename(columns = {0:'returns'})\n",
    "adx_rsi_strategy_ret = []\n",
    "\n",
    "for i in range(len(aapl_ret)):\n",
    "    returns = aapl_ret['returns'][i]*strategy['stoch_macd_position'][i]\n",
    "    adx_rsi_strategy_ret.append(returns)\n",
    "    \n",
    "adx_rsi_strategy_ret_df = pd.DataFrame(adx_rsi_strategy_ret).rename(columns = {0:'adx_rsi_returns'})\n",
    "investment_value = 10000\n",
    "number_of_stocks = investment_value/df['close'][0]\n",
    "adx_rsi_investment_ret = []\n",
    "\n",
    "for i in range(len(adx_rsi_strategy_ret_df['adx_rsi_returns'])):\n",
    "    returns = number_of_stocks*adx_rsi_strategy_ret_df['adx_rsi_returns'][i]\n",
    "    adx_rsi_investment_ret.append(returns)\n",
    "\n",
    "adx_rsi_investment_ret_df = pd.DataFrame(adx_rsi_investment_ret).rename(columns = {0:'investment_returns'})\n",
    "total_investment_ret = round(sum(adx_rsi_investment_ret_df['investment_returns']), 2)\n",
    "profit_percentage = (total_investment_ret/investment_value)*100\n",
    "print('Profit gained from the STOCH + MACD strategy by investing 10k in AAPL : {}'.format(total_investment_ret))\n",
    "print('Profit percentage of the STOCH + MACD strategy : {}%'.format(profit_percentage))"
   ]
  },
  {
   "cell_type": "code",
   "execution_count": 23,
   "metadata": {},
   "outputs": [
    {
     "data": {
      "text/plain": [
       " 0    244\n",
       " 1      2\n",
       "-1      2\n",
       "Name: adx_rsi_signal, dtype: int64"
      ]
     },
     "execution_count": 23,
     "metadata": {},
     "output_type": "execute_result"
    }
   ],
   "source": [
    "# сбер\n",
    "strategy.adx_rsi_signal.value_counts()"
   ]
  },
  {
   "cell_type": "code",
   "execution_count": null,
   "metadata": {},
   "outputs": [],
   "source": [
    "# или"
   ]
  },
  {
   "cell_type": "code",
   "execution_count": 25,
   "metadata": {},
   "outputs": [
    {
     "name": "stdout",
     "output_type": "stream",
     "text": [
      "Profit gained from the STOCH + MACD strategy by investing 10k in AAPL : 3148.07\n",
      "Profit percentage of the STOCH + MACD strategy : 31.4807%\n"
     ]
    }
   ],
   "source": [
    "# BACKTESTING\n",
    "\n",
    "aapl_ret = pd.DataFrame(np.diff(df['close'])).rename(columns = {0:'returns'})\n",
    "adx_rsi_strategy_ret = []\n",
    "\n",
    "for i in range(len(aapl_ret)):\n",
    "    returns = aapl_ret['returns'][i]*strategy['stoch_macd_position'][i]\n",
    "    adx_rsi_strategy_ret.append(returns)\n",
    "    \n",
    "adx_rsi_strategy_ret_df = pd.DataFrame(adx_rsi_strategy_ret).rename(columns = {0:'adx_rsi_returns'})\n",
    "investment_value = 10000\n",
    "number_of_stocks = investment_value/df['close'][0]\n",
    "adx_rsi_investment_ret = []\n",
    "\n",
    "for i in range(len(adx_rsi_strategy_ret_df['adx_rsi_returns'])):\n",
    "    returns = number_of_stocks*adx_rsi_strategy_ret_df['adx_rsi_returns'][i]\n",
    "    adx_rsi_investment_ret.append(returns)\n",
    "\n",
    "adx_rsi_investment_ret_df = pd.DataFrame(adx_rsi_investment_ret).rename(columns = {0:'investment_returns'})\n",
    "total_investment_ret = round(sum(adx_rsi_investment_ret_df['investment_returns']), 2)\n",
    "profit_percentage = (total_investment_ret/investment_value)*100\n",
    "print('Profit gained from the STOCH + MACD strategy by investing 10k in AAPL : {}'.format(total_investment_ret))\n",
    "print('Profit percentage of the STOCH + MACD strategy : {}%'.format(profit_percentage))"
   ]
  },
  {
   "cell_type": "code",
   "execution_count": 26,
   "metadata": {},
   "outputs": [
    {
     "data": {
      "text/plain": [
       " 0    204\n",
       " 1     22\n",
       "-1     21\n",
       "Name: stoch_macd_signal, dtype: int64"
      ]
     },
     "execution_count": 26,
     "metadata": {},
     "output_type": "execute_result"
    }
   ],
   "source": [
    "strategy.stoch_macd_signal.value_counts()"
   ]
  }
 ],
 "metadata": {
  "kernelspec": {
   "display_name": "Python 3",
   "language": "python",
   "name": "python3"
  },
  "language_info": {
   "codemirror_mode": {
    "name": "ipython",
    "version": 3
   },
   "file_extension": ".py",
   "mimetype": "text/x-python",
   "name": "python",
   "nbconvert_exporter": "python",
   "pygments_lexer": "ipython3",
   "version": "3.6.5"
  }
 },
 "nbformat": 4,
 "nbformat_minor": 2
}
