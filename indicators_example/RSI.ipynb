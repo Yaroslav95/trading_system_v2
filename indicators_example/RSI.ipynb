{
 "cells": [
  {
   "cell_type": "code",
   "execution_count": 3,
   "metadata": {},
   "outputs": [],
   "source": [
    "import pandas as pd\n",
    "import matplotlib.pyplot as plt\n",
    "import seaborn as sns\n",
    "import numpy as np\n",
    "from datetime import datetime\n"
   ]
  },
  {
   "cell_type": "markdown",
   "metadata": {},
   "source": [
    "## Котировки"
   ]
  },
  {
   "cell_type": "code",
   "execution_count": 4,
   "metadata": {},
   "outputs": [],
   "source": [
    "df = pd.read_csv('Data/TQBR.SBER_D1.txt', sep='\\t')"
   ]
  },
  {
   "cell_type": "code",
   "execution_count": 5,
   "metadata": {},
   "outputs": [],
   "source": [
    "def func_1(x):\n",
    "    \n",
    "    return datetime.strptime(x[:10], '%d.%m.%Y')\n",
    "\n",
    "df.datetime = df.datetime.apply(lambda x: func_1(x))\n",
    "df.datetime = df.datetime.astype('datetime64')"
   ]
  },
  {
   "cell_type": "code",
   "execution_count": 6,
   "metadata": {},
   "outputs": [
    {
     "data": {
      "text/plain": [
       "<matplotlib.axes._subplots.AxesSubplot at 0x265071d4a20>"
      ]
     },
     "execution_count": 6,
     "metadata": {},
     "output_type": "execute_result"
    },
    {
     "data": {
      "image/png": "[encoded data removed]",
      "text/plain": [
       "<Figure size 432x288 with 1 Axes>"
      ]
     },
     "metadata": {},
     "output_type": "display_data"
    }
   ],
   "source": [
    "sns.lineplot(data=df.loc[lambda x: x.datetime >= pd.to_datetime('2021-01-01')], x=\"datetime\", y=\"open\")"
   ]
  },
  {
   "cell_type": "code",
   "execution_count": 7,
   "metadata": {},
   "outputs": [
    {
     "data": {
      "text/html": [
       "<div>\n",
       "<style scoped>\n",
       "    .dataframe tbody tr th:only-of-type {\n",
       "        vertical-align: middle;\n",
       "    }\n",
       "\n",
       "    .dataframe tbody tr th {\n",
       "        vertical-align: top;\n",
       "    }\n",
       "\n",
       "    .dataframe thead th {\n",
       "        text-align: right;\n",
       "    }\n",
       "</style>\n",
       "<table border=\"1\" class=\"dataframe\">\n",
       "  <thead>\n",
       "    <tr style=\"text-align: right;\">\n",
       "      <th></th>\n",
       "      <th>open</th>\n",
       "      <th>high</th>\n",
       "      <th>low</th>\n",
       "      <th>close</th>\n",
       "      <th>volume</th>\n",
       "    </tr>\n",
       "    <tr>\n",
       "      <th>datetime</th>\n",
       "      <th></th>\n",
       "      <th></th>\n",
       "      <th></th>\n",
       "      <th></th>\n",
       "      <th></th>\n",
       "    </tr>\n",
       "  </thead>\n",
       "  <tbody>\n",
       "    <tr>\n",
       "      <th>2021-01-04</th>\n",
       "      <td>274.67</td>\n",
       "      <td>276.60</td>\n",
       "      <td>270.61</td>\n",
       "      <td>272.00</td>\n",
       "      <td>4879946</td>\n",
       "    </tr>\n",
       "    <tr>\n",
       "      <th>2021-01-05</th>\n",
       "      <td>272.67</td>\n",
       "      <td>275.70</td>\n",
       "      <td>270.28</td>\n",
       "      <td>275.20</td>\n",
       "      <td>4555410</td>\n",
       "    </tr>\n",
       "    <tr>\n",
       "      <th>2021-01-06</th>\n",
       "      <td>275.90</td>\n",
       "      <td>275.92</td>\n",
       "      <td>271.62</td>\n",
       "      <td>272.93</td>\n",
       "      <td>4090534</td>\n",
       "    </tr>\n",
       "    <tr>\n",
       "      <th>2021-01-08</th>\n",
       "      <td>275.11</td>\n",
       "      <td>283.99</td>\n",
       "      <td>275.11</td>\n",
       "      <td>283.64</td>\n",
       "      <td>8867294</td>\n",
       "    </tr>\n",
       "    <tr>\n",
       "      <th>2021-01-11</th>\n",
       "      <td>282.75</td>\n",
       "      <td>292.95</td>\n",
       "      <td>279.48</td>\n",
       "      <td>289.49</td>\n",
       "      <td>11221040</td>\n",
       "    </tr>\n",
       "  </tbody>\n",
       "</table>\n",
       "</div>"
      ],
      "text/plain": [
       "              open    high     low   close    volume\n",
       "datetime                                            \n",
       "2021-01-04  274.67  276.60  270.61  272.00   4879946\n",
       "2021-01-05  272.67  275.70  270.28  275.20   4555410\n",
       "2021-01-06  275.90  275.92  271.62  272.93   4090534\n",
       "2021-01-08  275.11  283.99  275.11  283.64   8867294\n",
       "2021-01-11  282.75  292.95  279.48  289.49  11221040"
      ]
     },
     "execution_count": 7,
     "metadata": {},
     "output_type": "execute_result"
    }
   ],
   "source": [
    "df = df.loc[lambda x: x.datetime >= pd.to_datetime('2021-01-01')].set_index('datetime')\n",
    "df.head()"
   ]
  },
  {
   "cell_type": "markdown",
   "metadata": {},
   "source": [
    "## Индикатор"
   ]
  },
  {
   "cell_type": "code",
   "execution_count": 8,
   "metadata": {},
   "outputs": [
    {
     "data": {
      "text/html": [
       "<div>\n",
       "<style scoped>\n",
       "    .dataframe tbody tr th:only-of-type {\n",
       "        vertical-align: middle;\n",
       "    }\n",
       "\n",
       "    .dataframe tbody tr th {\n",
       "        vertical-align: top;\n",
       "    }\n",
       "\n",
       "    .dataframe thead th {\n",
       "        text-align: right;\n",
       "    }\n",
       "</style>\n",
       "<table border=\"1\" class=\"dataframe\">\n",
       "  <thead>\n",
       "    <tr style=\"text-align: right;\">\n",
       "      <th></th>\n",
       "      <th>open</th>\n",
       "      <th>high</th>\n",
       "      <th>low</th>\n",
       "      <th>close</th>\n",
       "      <th>volume</th>\n",
       "      <th>rsi_14</th>\n",
       "    </tr>\n",
       "    <tr>\n",
       "      <th>datetime</th>\n",
       "      <th></th>\n",
       "      <th></th>\n",
       "      <th></th>\n",
       "      <th></th>\n",
       "      <th></th>\n",
       "      <th></th>\n",
       "    </tr>\n",
       "  </thead>\n",
       "  <tbody>\n",
       "    <tr>\n",
       "      <th>2022-01-26</th>\n",
       "      <td>240.06</td>\n",
       "      <td>245.17</td>\n",
       "      <td>233.30</td>\n",
       "      <td>236.90</td>\n",
       "      <td>22480044</td>\n",
       "      <td>30.639999</td>\n",
       "    </tr>\n",
       "    <tr>\n",
       "      <th>2022-01-27</th>\n",
       "      <td>234.99</td>\n",
       "      <td>260.00</td>\n",
       "      <td>233.10</td>\n",
       "      <td>254.29</td>\n",
       "      <td>30118789</td>\n",
       "      <td>41.785815</td>\n",
       "    </tr>\n",
       "    <tr>\n",
       "      <th>2022-01-28</th>\n",
       "      <td>255.86</td>\n",
       "      <td>262.00</td>\n",
       "      <td>252.02</td>\n",
       "      <td>257.82</td>\n",
       "      <td>20415396</td>\n",
       "      <td>43.761406</td>\n",
       "    </tr>\n",
       "    <tr>\n",
       "      <th>2022-01-31</th>\n",
       "      <td>258.88</td>\n",
       "      <td>269.60</td>\n",
       "      <td>258.81</td>\n",
       "      <td>269.42</td>\n",
       "      <td>15608754</td>\n",
       "      <td>49.791368</td>\n",
       "    </tr>\n",
       "    <tr>\n",
       "      <th>2022-02-01</th>\n",
       "      <td>269.72</td>\n",
       "      <td>273.10</td>\n",
       "      <td>260.56</td>\n",
       "      <td>262.30</td>\n",
       "      <td>16328436</td>\n",
       "      <td>46.496011</td>\n",
       "    </tr>\n",
       "  </tbody>\n",
       "</table>\n",
       "</div>"
      ],
      "text/plain": [
       "              open    high     low   close    volume     rsi_14\n",
       "datetime                                                       \n",
       "2022-01-26  240.06  245.17  233.30  236.90  22480044  30.639999\n",
       "2022-01-27  234.99  260.00  233.10  254.29  30118789  41.785815\n",
       "2022-01-28  255.86  262.00  252.02  257.82  20415396  43.761406\n",
       "2022-01-31  258.88  269.60  258.81  269.42  15608754  49.791368\n",
       "2022-02-01  269.72  273.10  260.56  262.30  16328436  46.496011"
      ]
     },
     "execution_count": 8,
     "metadata": {},
     "output_type": "execute_result"
    }
   ],
   "source": [
    "# RSI CALCULATION\n",
    "\n",
    "def get_rsi(close, lookback):\n",
    "    ret = close.diff()\n",
    "    up = []\n",
    "    down = []\n",
    "    for i in range(len(ret)):\n",
    "        if ret[i] < 0:\n",
    "            up.append(0)\n",
    "            down.append(ret[i])\n",
    "        else:\n",
    "            up.append(ret[i])\n",
    "            down.append(0)\n",
    "    up_series = pd.Series(up)\n",
    "    down_series = pd.Series(down).abs()\n",
    "    up_ewm = up_series.ewm(com = lookback - 1, adjust = False).mean()\n",
    "    down_ewm = down_series.ewm(com = lookback - 1, adjust = False).mean()\n",
    "    rs = up_ewm/down_ewm\n",
    "    rsi = 100 - (100 / (1 + rs))\n",
    "    rsi_df = pd.DataFrame(rsi).rename(columns = {0:'rsi'}).set_index(close.index)\n",
    "    rsi_df = rsi_df.dropna()\n",
    "    return rsi_df[3:]\n",
    "\n",
    "df = df.reset_index().merge(get_rsi(df['close'], 14).reset_index().rename(columns={'rsi':'rsi_14'}), on='datetime', how='left')\\\n",
    "       .set_index('datetime')\n",
    "\n",
    "df = df.dropna()\n",
    "df.tail()"
   ]
  },
  {
   "cell_type": "markdown",
   "metadata": {},
   "source": [
    "## TRADING STRATEGY"
   ]
  },
  {
   "cell_type": "code",
   "execution_count": 9,
   "metadata": {},
   "outputs": [],
   "source": [
    "def implement_rsi_strategy(prices, rsi):    \n",
    "    buy_price = []\n",
    "    sell_price = []\n",
    "    rsi_signal = []\n",
    "    signal = 0\n",
    "\n",
    "    for i in range(len(rsi)):\n",
    "        if rsi[i-1] > 30 and rsi[i] < 30:\n",
    "            if signal != 1:\n",
    "                buy_price.append(prices[i])\n",
    "                sell_price.append(np.nan)\n",
    "                signal = 1\n",
    "                rsi_signal.append(signal)\n",
    "            else:\n",
    "                buy_price.append(np.nan)\n",
    "                sell_price.append(np.nan)\n",
    "                rsi_signal.append(0)\n",
    "        elif rsi[i-1] < 70 and rsi[i] > 70:\n",
    "            if signal != -1:\n",
    "                buy_price.append(np.nan)\n",
    "                sell_price.append(prices[i])\n",
    "                signal = -1\n",
    "                rsi_signal.append(signal)\n",
    "            else:\n",
    "                buy_price.append(np.nan)\n",
    "                sell_price.append(np.nan)\n",
    "                rsi_signal.append(0)\n",
    "        else:\n",
    "            buy_price.append(np.nan)\n",
    "            sell_price.append(np.nan)\n",
    "            rsi_signal.append(0)\n",
    "            \n",
    "    return buy_price, sell_price, rsi_signal\n",
    "            \n",
    "\n",
    "buy_price, sell_price, rsi_signal = implement_rsi_strategy(df['close'], df['rsi_14'])"
   ]
  },
  {
   "cell_type": "code",
   "execution_count": 10,
   "metadata": {},
   "outputs": [
    {
     "data": {
      "image/png": "[encoded data removed]",
      "text/plain": [
       "<Figure size 864x576 with 2 Axes>"
      ]
     },
     "metadata": {},
     "output_type": "display_data"
    }
   ],
   "source": [
    "plt.figure(figsize=(12,8))  \n",
    "ax1 = plt.subplot2grid((10,1), (0,0), rowspan = 4, colspan = 1)\n",
    "ax2 = plt.subplot2grid((10,1), (5,0), rowspan = 4, colspan = 1)\n",
    "ax1.plot(df['close'], linewidth = 2.5, color = 'skyblue', label = 'IBM')\n",
    "ax1.plot(df.index, buy_price, marker = '^', markersize = 10, color = 'green', label = 'BUY SIGNAL')\n",
    "ax1.plot(df.index, sell_price, marker = 'v', markersize = 10, color = 'r', label = 'SELL SIGNAL')\n",
    "ax1.set_title('RSI TRADE SIGNALS')\n",
    "ax2.plot(df['rsi_14'], color = 'orange', linewidth = 2.5)\n",
    "ax2.axhline(30, linestyle = '--', linewidth = 1.5, color = 'grey')\n",
    "ax2.axhline(70, linestyle = '--', linewidth = 1.5, color = 'grey')\n",
    "plt.show()"
   ]
  },
  {
   "cell_type": "markdown",
   "metadata": {},
   "source": [
    "## POSITION"
   ]
  },
  {
   "cell_type": "code",
   "execution_count": 17,
   "metadata": {},
   "outputs": [
    {
     "data": {
      "text/html": [
       "<div>\n",
       "<style scoped>\n",
       "    .dataframe tbody tr th:only-of-type {\n",
       "        vertical-align: middle;\n",
       "    }\n",
       "\n",
       "    .dataframe tbody tr th {\n",
       "        vertical-align: top;\n",
       "    }\n",
       "\n",
       "    .dataframe thead th {\n",
       "        text-align: right;\n",
       "    }\n",
       "</style>\n",
       "<table border=\"1\" class=\"dataframe\">\n",
       "  <thead>\n",
       "    <tr style=\"text-align: right;\">\n",
       "      <th></th>\n",
       "      <th>close</th>\n",
       "      <th>rsi_14</th>\n",
       "      <th>rsi_signal</th>\n",
       "      <th>rsi_position</th>\n",
       "    </tr>\n",
       "    <tr>\n",
       "      <th>datetime</th>\n",
       "      <th></th>\n",
       "      <th></th>\n",
       "      <th></th>\n",
       "      <th></th>\n",
       "    </tr>\n",
       "  </thead>\n",
       "  <tbody>\n",
       "    <tr>\n",
       "      <th>2021-01-11</th>\n",
       "      <td>289.49</td>\n",
       "      <td>96.349805</td>\n",
       "      <td>-1</td>\n",
       "      <td>0</td>\n",
       "    </tr>\n",
       "    <tr>\n",
       "      <th>2021-01-12</th>\n",
       "      <td>289.99</td>\n",
       "      <td>96.386096</td>\n",
       "      <td>0</td>\n",
       "      <td>0</td>\n",
       "    </tr>\n",
       "    <tr>\n",
       "      <th>2021-01-13</th>\n",
       "      <td>283.78</td>\n",
       "      <td>85.073197</td>\n",
       "      <td>0</td>\n",
       "      <td>0</td>\n",
       "    </tr>\n",
       "    <tr>\n",
       "      <th>2021-01-14</th>\n",
       "      <td>284.79</td>\n",
       "      <td>85.373876</td>\n",
       "      <td>0</td>\n",
       "      <td>0</td>\n",
       "    </tr>\n",
       "    <tr>\n",
       "      <th>2021-01-15</th>\n",
       "      <td>276.90</td>\n",
       "      <td>73.002586</td>\n",
       "      <td>0</td>\n",
       "      <td>0</td>\n",
       "    </tr>\n",
       "  </tbody>\n",
       "</table>\n",
       "</div>"
      ],
      "text/plain": [
       "             close     rsi_14  rsi_signal  rsi_position\n",
       "datetime                                               \n",
       "2021-01-11  289.49  96.349805          -1             0\n",
       "2021-01-12  289.99  96.386096           0             0\n",
       "2021-01-13  283.78  85.073197           0             0\n",
       "2021-01-14  284.79  85.373876           0             0\n",
       "2021-01-15  276.90  73.002586           0             0"
      ]
     },
     "execution_count": 17,
     "metadata": {},
     "output_type": "execute_result"
    }
   ],
   "source": [
    "# POSITION\n",
    "\n",
    "position = []\n",
    "for i in range(len(rsi_signal)):\n",
    "    if rsi_signal[i] > 1:\n",
    "        position.append(0)\n",
    "    else:\n",
    "        position.append(1)\n",
    "        \n",
    "for i in range(len(df['close'])):\n",
    "    if rsi_signal[i] == 1:\n",
    "        position[i] = 1\n",
    "    elif rsi_signal[i] == -1:\n",
    "        position[i] = 0\n",
    "    else:\n",
    "        position[i] = position[i-1]\n",
    "        \n",
    "rsi = df['rsi_14']\n",
    "close_price = df['close']\n",
    "rsi_signal = pd.DataFrame(rsi_signal).rename(columns = {0:'rsi_signal'}).set_index(df.index)\n",
    "position = pd.DataFrame(position).rename(columns = {0:'rsi_position'}).set_index(df.index)\n",
    "\n",
    "frames = [close_price, rsi, rsi_signal, position]\n",
    "strategy = pd.concat(frames, join = 'inner', axis = 1)\n",
    "\n",
    "strategy.head()"
   ]
  },
  {
   "cell_type": "code",
   "execution_count": 20,
   "metadata": {},
   "outputs": [
    {
     "data": {
      "text/html": [
       "<div>\n",
       "<style scoped>\n",
       "    .dataframe tbody tr th:only-of-type {\n",
       "        vertical-align: middle;\n",
       "    }\n",
       "\n",
       "    .dataframe tbody tr th {\n",
       "        vertical-align: top;\n",
       "    }\n",
       "\n",
       "    .dataframe thead th {\n",
       "        text-align: right;\n",
       "    }\n",
       "</style>\n",
       "<table border=\"1\" class=\"dataframe\">\n",
       "  <thead>\n",
       "    <tr style=\"text-align: right;\">\n",
       "      <th></th>\n",
       "      <th>close</th>\n",
       "      <th>rsi_14</th>\n",
       "      <th>rsi_signal</th>\n",
       "      <th>rsi_position</th>\n",
       "    </tr>\n",
       "    <tr>\n",
       "      <th>datetime</th>\n",
       "      <th></th>\n",
       "      <th></th>\n",
       "      <th></th>\n",
       "      <th></th>\n",
       "    </tr>\n",
       "  </thead>\n",
       "  <tbody>\n",
       "    <tr>\n",
       "      <th>2021-01-11</th>\n",
       "      <td>289.49</td>\n",
       "      <td>96.349805</td>\n",
       "      <td>-1</td>\n",
       "      <td>0</td>\n",
       "    </tr>\n",
       "    <tr>\n",
       "      <th>2021-07-19</th>\n",
       "      <td>291.46</td>\n",
       "      <td>26.757174</td>\n",
       "      <td>1</td>\n",
       "      <td>1</td>\n",
       "    </tr>\n",
       "    <tr>\n",
       "      <th>2021-08-09</th>\n",
       "      <td>326.91</td>\n",
       "      <td>75.511104</td>\n",
       "      <td>-1</td>\n",
       "      <td>0</td>\n",
       "    </tr>\n",
       "    <tr>\n",
       "      <th>2021-11-22</th>\n",
       "      <td>309.15</td>\n",
       "      <td>25.243322</td>\n",
       "      <td>1</td>\n",
       "      <td>1</td>\n",
       "    </tr>\n",
       "  </tbody>\n",
       "</table>\n",
       "</div>"
      ],
      "text/plain": [
       "             close     rsi_14  rsi_signal  rsi_position\n",
       "datetime                                               \n",
       "2021-01-11  289.49  96.349805          -1             0\n",
       "2021-07-19  291.46  26.757174           1             1\n",
       "2021-08-09  326.91  75.511104          -1             0\n",
       "2021-11-22  309.15  25.243322           1             1"
      ]
     },
     "execution_count": 20,
     "metadata": {},
     "output_type": "execute_result"
    }
   ],
   "source": [
    "strategy.loc[lambda x: abs(x.rsi_signal)==1]"
   ]
  },
  {
   "cell_type": "markdown",
   "metadata": {},
   "source": [
    "## BACKTEST"
   ]
  },
  {
   "cell_type": "code",
   "execution_count": 22,
   "metadata": {},
   "outputs": [
    {
     "name": "stdout",
     "output_type": "stream",
     "text": [
      "Profit gained from the RSI strategy by investing $100k in IBM : 607.73\n",
      "Profit percentage of the RSI strategy : 6.0773%\n"
     ]
    }
   ],
   "source": [
    "# BACKTESTING\n",
    "\n",
    "ibm_ret = pd.DataFrame(np.diff(df['close'])).rename(columns = {0:'returns'})\n",
    "rsi_strategy_ret = []\n",
    "\n",
    "for i in range(len(ibm_ret)):\n",
    "    returns = ibm_ret['returns'][i]*strategy['rsi_position'][i]\n",
    "    rsi_strategy_ret.append(returns)\n",
    "    \n",
    "rsi_strategy_ret_df = pd.DataFrame(rsi_strategy_ret).rename(columns = {0:'rsi_returns'})\n",
    "investment_value = 10000\n",
    "number_of_stocks = investment_value/df['close'][-1]\n",
    "rsi_investment_ret = []\n",
    "\n",
    "for i in range(len(rsi_strategy_ret_df['rsi_returns'])):\n",
    "    returns = number_of_stocks*rsi_strategy_ret_df['rsi_returns'][i]\n",
    "    rsi_investment_ret.append(returns)\n",
    "\n",
    "rsi_investment_ret_df = pd.DataFrame(rsi_investment_ret).rename(columns = {0:'investment_returns'})\n",
    "total_investment_ret = round(sum(rsi_investment_ret_df['investment_returns']), 2)\n",
    "profit_percentage = (total_investment_ret/investment_value)*100\n",
    "print('Profit gained from the RSI strategy by investing $100k in IBM : {}'.format(total_investment_ret))\n",
    "print('Profit percentage of the RSI strategy : {}%'.format(profit_percentage))"
   ]
  },
  {
   "cell_type": "code",
   "execution_count": 23,
   "metadata": {},
   "outputs": [
    {
     "data": {
      "text/plain": [
       " 0    258\n",
       " 1      2\n",
       "-1      2\n",
       "Name: rsi_signal, dtype: int64"
      ]
     },
     "execution_count": 23,
     "metadata": {},
     "output_type": "execute_result"
    }
   ],
   "source": [
    "# сбер\n",
    "strategy.rsi_signal.value_counts()"
   ]
  }
 ],
 "metadata": {
  "kernelspec": {
   "display_name": "Python 3",
   "language": "python",
   "name": "python3"
  },
  "language_info": {
   "codemirror_mode": {
    "name": "ipython",
    "version": 3
   },
   "file_extension": ".py",
   "mimetype": "text/x-python",
   "name": "python",
   "nbconvert_exporter": "python",
   "pygments_lexer": "ipython3",
   "version": "3.6.5"
  }
 },
 "nbformat": 4,
 "nbformat_minor": 2
}
